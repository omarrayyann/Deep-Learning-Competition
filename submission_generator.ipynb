{
 "cells": [
  {
   "cell_type": "markdown",
   "metadata": {
    "id": "E6bZIPLUd0R0"
   },
   "source": [
    "# Submission .csv maker"
   ]
  },
  {
   "cell_type": "code",
   "execution_count": 2,
   "metadata": {
    "id": "vjP0Rznsd0R4"
   },
   "outputs": [],
   "source": [
    "# External Libraries\n",
    "import torch\n",
    "from torch import nn\n",
    "import numpy as np\n",
    "import matplotlib.pyplot as plt\n",
    "import os\n",
    "import pickle\n",
    "import torch.optim as optim\n",
    "import torchvision.transforms as transforms\n",
    "from resnet import ResNet\n",
    "from utils import load_checkpoint\n",
    "DEVICE = torch.device(\"cuda\" if torch.cuda.is_available() else \"cpu\")"
   ]
  },
  {
   "cell_type": "markdown",
   "metadata": {
    "id": "khi32as7d0R7"
   },
   "source": [
    "**Initializing Our Model (implementation [here](resnet.py))**"
   ]
  },
  {
   "cell_type": "code",
   "execution_count": 3,
   "metadata": {
    "id": "sGpUkjq5d0R8"
   },
   "outputs": [],
   "source": [
    "num_blocks = [2,2,2,2]\n",
    "model = ResNet(num_blocks=num_blocks).to(DEVICE)"
   ]
  },
  {
   "cell_type": "markdown",
   "metadata": {
    "id": "fmyW1Pudd0R8"
   },
   "source": [
    "\n",
    "**Number of Parameters in our Model**"
   ]
  },
  {
   "cell_type": "code",
   "execution_count": 4,
   "metadata": {
    "colab": {
     "base_uri": "https://localhost:8080/"
    },
    "id": "lXcAhQWMd0R9",
    "outputId": "97cafd61-5ac7-45d7-9842-b137ea7f2225"
   },
   "outputs": [
    {
     "name": "stdout",
     "output_type": "stream",
     "text": [
      "Total number of parameters: 269722\n"
     ]
    }
   ],
   "source": [
    "total_params = sum(p.numel() for p in model.parameters())\n",
    "print(f\"Total number of parameters: {total_params}\")"
   ]
  },
  {
   "cell_type": "code",
   "execution_count": 6,
   "metadata": {},
   "outputs": [],
   "source": [
    "def load_cifar_batch(file):\n",
    "    with open(file, 'rb') as fo:\n",
    "        batch = pickle.load(fo, encoding='bytes')\n",
    "    return batch\n",
    "\n",
    "cifar10_batch = load_cifar_batch('cifar_test_nolabels.pkl')\n",
    "images = cifar10_batch[b'data'].reshape(-1, 3, 32, 32).transpose(0, 2, 3, 1) "
   ]
  },
  {
   "cell_type": "code",
   "execution_count": 7,
   "metadata": {},
   "outputs": [],
   "source": [
    "optimizer = optim.AdamW(model.parameters(), lr=1e-3, weight_decay=1e-2)\n",
    "starting_epoch = load_checkpoint(model, optimizer, \"eighty_seven.tar\") "
   ]
  },
  {
   "cell_type": "code",
   "execution_count": 140,
   "metadata": {},
   "outputs": [],
   "source": [
    "test_transform = transforms.Compose([\n",
    "    transforms.ToTensor(),\n",
    "    transforms.Normalize((0.4914, 0.4822, 0.4465), (0.2023, 0.1994, 0.2010)),\n",
    "])\n",
    "labels_names = ['airplane', 'automobile', 'bird', 'cat', 'deer', 'dog', 'frog', 'horse', 'ship', 'truck']"
   ]
  },
  {
   "cell_type": "code",
   "execution_count": null,
   "metadata": {},
   "outputs": [],
   "source": [
    "guess = []\n",
    "for i in range(10000):\n",
    "    image = images[i]\n",
    "    model.eval()\n",
    "    m = nn.Softmax(dim=1)\n",
    "    with torch.no_grad():\n",
    "        x = test_transform(image)\n",
    "        x = torch.unsqueeze(x,0)\n",
    "        y = model(x)\n",
    "        output = m(y)\n",
    "        predicted_class = output.argmax(dim=1)\n",
    "        guess.append(predicted_class.item())\n",
    "        # print(f\"Predicted class: {labels_names[predicted_class.item()]}\")\n"
   ]
  },
  {
   "cell_type": "code",
   "execution_count": 128,
   "metadata": {},
   "outputs": [],
   "source": [
    "import csv\n",
    "with open(\"test2\", 'w', newline='') as csvfile:\n",
    "    writer = csv.writer(csvfile)\n",
    "    writer.writerow([\"ID\",\"Labels\"])\n",
    "    for i, num in enumerate(guess):\n",
    "        writer.writerow([i,num])"
   ]
  }
 ],
 "metadata": {
  "accelerator": "GPU",
  "colab": {
   "gpuType": "V100",
   "machine_shape": "hm",
   "provenance": []
  },
  "kernelspec": {
   "display_name": "Python 3",
   "language": "python",
   "name": "python3"
  },
  "language_info": {
   "codemirror_mode": {
    "name": "ipython",
    "version": 3
   },
   "file_extension": ".py",
   "mimetype": "text/x-python",
   "name": "python",
   "nbconvert_exporter": "python",
   "pygments_lexer": "ipython3",
   "version": "3.12.2"
  }
 },
 "nbformat": 4,
 "nbformat_minor": 4
}
