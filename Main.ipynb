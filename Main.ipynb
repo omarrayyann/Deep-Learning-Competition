{
 "cells": [
  {
   "cell_type": "code",
   "execution_count": 5,
   "metadata": {},
   "outputs": [],
   "source": [
    "import torch\n",
    "from torch import nn\n",
    "from resnet import BasicBlock"
   ]
  },
  {
   "cell_type": "code",
   "execution_count": 2,
   "metadata": {},
   "outputs": [
    {
     "name": "stdout",
     "output_type": "stream",
     "text": [
      "torch.Size([1, 64, 16, 16])\n"
     ]
    }
   ],
   "source": [
    "x = torch.rand((1,64,16,16))\n",
    "print(x.shape)"
   ]
  },
  {
   "cell_type": "code",
   "execution_count": 27,
   "metadata": {},
   "outputs": [],
   "source": [
    "def combine_function_1(x, output):\n",
    "    x = nn.Sequential(\n",
    "        nn.Conv2d(64,64,3,stride=2,padding=1)\n",
    "    )(x)\n",
    "    return x + output\n",
    "\n",
    "def combine_function_2(x, output):\n",
    "    x = nn.Sequential(\n",
    "        nn.Conv2d(64,64,2,stride=2,padding=0)\n",
    "    )(x)\n",
    "    print(x.shape)\n",
    "    return x + output"
   ]
  },
  {
   "cell_type": "code",
   "execution_count": 24,
   "metadata": {},
   "outputs": [],
   "source": [
    "# Combination Function: Conv of x to reduce width*height by half to match y\n",
    "def combine_function(x, output):\n",
    "    x = nn.Sequential(\n",
    "        nn.Conv2d(64,64,2,stride=2,padding=0)\n",
    "    )(x)\n",
    "    print(x.shape)\n",
    "    return x + output"
   ]
  },
  {
   "cell_type": "code",
   "execution_count": 25,
   "metadata": {},
   "outputs": [],
   "source": [
    "basic_block = BasicBlock(\n",
    "    in_channels=64,\n",
    "    out_channels=64,\n",
    "    stride=2,\n",
    "    combine_function=combine_function,\n",
    ")"
   ]
  },
  {
   "cell_type": "code",
   "execution_count": 26,
   "metadata": {},
   "outputs": [
    {
     "name": "stdout",
     "output_type": "stream",
     "text": [
      "torch.Size([1, 64, 8, 8])\n"
     ]
    }
   ],
   "source": [
    "y = basic_block.forward(x)"
   ]
  },
  {
   "cell_type": "code",
   "execution_count": null,
   "metadata": {},
   "outputs": [
    {
     "name": "stdout",
     "output_type": "stream",
     "text": [
      "x shape: torch.Size([1, 64, 16, 16])\n",
      "y shape: torch.Size([1, 64, 8, 8])\n"
     ]
    }
   ],
   "source": [
    "print(f\"x shape: {x.shape}\\ny shape: {y.shape}\")"
   ]
  },
  {
   "cell_type": "code",
   "execution_count": null,
   "metadata": {},
   "outputs": [],
   "source": []
  }
 ],
 "metadata": {
  "kernelspec": {
   "display_name": "Python 3",
   "language": "python",
   "name": "python3"
  },
  "language_info": {
   "codemirror_mode": {
    "name": "ipython",
    "version": 3
   },
   "file_extension": ".py",
   "mimetype": "text/x-python",
   "name": "python",
   "nbconvert_exporter": "python",
   "pygments_lexer": "ipython3",
   "version": "3.12.2"
  }
 },
 "nbformat": 4,
 "nbformat_minor": 2
}
