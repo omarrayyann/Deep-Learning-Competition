{
 "cells": [
  {
   "cell_type": "markdown",
   "metadata": {
    "id": "E6bZIPLUd0R0"
   },
   "source": [
    "# Deep Learning Graduate Course Competition"
   ]
  },
  {
   "cell_type": "code",
   "execution_count": 1,
   "metadata": {
    "id": "QLpDCpdagXwO"
   },
   "outputs": [],
   "source": [
    "# !unzip data.zip"
   ]
  },
  {
   "cell_type": "markdown",
   "metadata": {
    "id": "_XsBn7P_d0R2"
   },
   "source": [
    "**Importing Required Libraries and Functions**"
   ]
  },
  {
   "cell_type": "code",
   "execution_count": 1,
   "metadata": {
    "id": "vjP0Rznsd0R4"
   },
   "outputs": [],
   "source": [
    "# External Libraries\n",
    "import torch\n",
    "import torch.optim as optim\n",
    "import torchvision.transforms as transforms\n",
    "\n",
    "# Internal Helper ibraries/Functions\n",
    "from resnet import ResNet\n",
    "from utils import get_data_loaders, train, test, save_checkpoint, load_checkpoint\n",
    "\n",
    "DEVICE = torch.device(\"cuda\" if torch.cuda.is_available() else \"cpu\")\n",
    "DATA_PATH = \"data\""
   ]
  },
  {
   "cell_type": "markdown",
   "metadata": {
    "id": "khi32as7d0R7"
   },
   "source": [
    "**Initializing Our Model (implementation [here](resnet.py))**"
   ]
  },
  {
   "cell_type": "code",
   "execution_count": 2,
   "metadata": {
    "id": "sGpUkjq5d0R8"
   },
   "outputs": [],
   "source": [
    "model = ResNet(num_blocks=[4,4,3]).to(DEVICE)"
   ]
  },
  {
   "cell_type": "code",
   "execution_count": 3,
   "metadata": {},
   "outputs": [],
   "source": [
    "x = torch.rand((1,3,32,32))\n",
    "y = model(x)"
   ]
  },
  {
   "cell_type": "markdown",
   "metadata": {
    "id": "fmyW1Pudd0R8"
   },
   "source": [
    "\n",
    "**Number of Parameters in our Model**"
   ]
  },
  {
   "cell_type": "code",
   "execution_count": 4,
   "metadata": {
    "colab": {
     "base_uri": "https://localhost:8080/"
    },
    "id": "lXcAhQWMd0R9",
    "outputId": "5958924e-6cdc-4dc6-e23c-e4ca6f920de1"
   },
   "outputs": [
    {
     "name": "stdout",
     "output_type": "stream",
     "text": [
      "Total number of parameters: 4697742\n"
     ]
    }
   ],
   "source": [
    "total_params = sum(p.numel() for p in model.parameters())\n",
    "print(f\"Total number of parameters: {total_params}\")"
   ]
  },
  {
   "cell_type": "markdown",
   "metadata": {
    "id": "5C87bj17nSa_"
   },
   "source": [
    "**Transforms**"
   ]
  },
  {
   "cell_type": "code",
   "execution_count": 4,
   "metadata": {
    "id": "DCaLr3v2nUl9"
   },
   "outputs": [],
   "source": [
    "train_transform = transforms.Compose([\n",
    "    transforms.ToTensor(),\n",
    "    transforms.RandomCrop(32, padding=4),\n",
    "    transforms.RandomHorizontalFlip(),\n",
    "    transforms.Normalize((0.4914, 0.4822, 0.4465), (0.2023, 0.1994, 0.2010)),\n",
    "])\n",
    "\n",
    "test_transform = transforms.Compose([\n",
    "    transforms.ToTensor(),\n",
    "    transforms.Normalize((0.4914, 0.4822, 0.4465), (0.2023, 0.1994, 0.2010)),\n",
    "])"
   ]
  },
  {
   "cell_type": "markdown",
   "metadata": {
    "id": "W26BIRoYd0R-"
   },
   "source": [
    "**Setting Up Data Loaders**"
   ]
  },
  {
   "cell_type": "code",
   "execution_count": 5,
   "metadata": {
    "id": "8Usv6i-Id0R_"
   },
   "outputs": [
    {
     "ename": "NameError",
     "evalue": "name 'test_transform' is not defined",
     "output_type": "error",
     "traceback": [
      "\u001b[0;31m---------------------------------------------------------------------------\u001b[0m",
      "\u001b[0;31mNameError\u001b[0m                                 Traceback (most recent call last)",
      "Cell \u001b[0;32mIn[5], line 1\u001b[0m\n\u001b[0;32m----> 1\u001b[0m train_loader, test_loader \u001b[38;5;241m=\u001b[39m get_data_loaders(dataset_path\u001b[38;5;241m=\u001b[39mDATA_PATH,batch_size\u001b[38;5;241m=\u001b[39m\u001b[38;5;241m128\u001b[39m,test_transform\u001b[38;5;241m=\u001b[39m\u001b[43mtest_transform\u001b[49m, train_transform\u001b[38;5;241m=\u001b[39mtrain_transform)\n",
      "\u001b[0;31mNameError\u001b[0m: name 'test_transform' is not defined"
     ]
    }
   ],
   "source": [
    "train_loader, test_loader = get_data_loaders(dataset_path=DATA_PATH,batch_size=128,test_transform=test_transform, train_transform=train_transform)"
   ]
  },
  {
   "cell_type": "markdown",
   "metadata": {
    "id": "voYfO3XId0R_"
   },
   "source": [
    "**Training Parameters**"
   ]
  },
  {
   "cell_type": "code",
   "execution_count": 6,
   "metadata": {
    "id": "SVPzT7R7d0SA"
   },
   "outputs": [],
   "source": [
    "start_epoch = 0\n",
    "end_epoch = 200\n",
    "loss_function = torch.nn.CrossEntropyLoss()\n",
    "weight_decay = 0.0005\n",
    "learning_rate = 0.1\n",
    "momentum = 0.9\n",
    "optimizer = optim.SGD(model.parameters(), lr=learning_rate, momentum=momentum, weight_decay=weight_decay)\n",
    "scheduler = torch.optim.lr_scheduler.CosineAnnealingLR(optimizer, T_max=end_epoch-start_epoch)"
   ]
  },
  {
   "cell_type": "markdown",
   "metadata": {
    "id": "AATZ5Kzk7bBa"
   },
   "source": [
    "**Loading Checkpoint**"
   ]
  },
  {
   "cell_type": "code",
   "execution_count": 7,
   "metadata": {
    "id": "PZHUOuYe7Z5j"
   },
   "outputs": [],
   "source": [
    "# start_epoch = load_checkpoint(model, optimizer, \"checkpoints/my_checkpoint.pth.tar\") + 1"
   ]
  },
  {
   "cell_type": "markdown",
   "metadata": {
    "id": "d5Ru4HHfnN9M"
   },
   "source": [
    "**Training**"
   ]
  },
  {
   "cell_type": "code",
   "execution_count": 10,
   "metadata": {
    "id": "u0V0Dh-P0kHb"
   },
   "outputs": [],
   "source": [
    "train_loss_history = []\n",
    "train_accuracy_history = []\n",
    "test_loss_history = []\n",
    "test_accuracy_history = []"
   ]
  },
  {
   "cell_type": "code",
   "execution_count": 11,
   "metadata": {
    "id": "7qXaBA3wd0SB"
   },
   "outputs": [
    {
     "name": "stdout",
     "output_type": "stream",
     "text": [
      "Epoch 0, Train loss 1.7045271006386604, Test loss 1.555867543703393, Train accuracy 0.37092, Test accuracy 0.4248\n",
      "Epoch 1, Train loss 1.2596028037083424, Test loss 1.122639455372774, Train accuracy 0.54214, Test accuracy 0.5953\n",
      "Epoch 2, Train loss 1.0063763942255084, Test loss 1.1903187979625751, Train accuracy 0.64016, Test accuracy 0.5979\n",
      "Epoch 3, Train loss 0.860116110433398, Test loss 0.9139165708535835, Train accuracy 0.69644, Test accuracy 0.6796\n",
      "Epoch 4, Train loss 0.7341962723475893, Test loss 1.2507898128485377, Train accuracy 0.74254, Test accuracy 0.6195\n",
      "Epoch 5, Train loss 0.6378110122802617, Test loss 0.8185237012331998, Train accuracy 0.77868, Test accuracy 0.726\n",
      "Epoch 6, Train loss 0.5792490949716105, Test loss 0.6354501575608796, Train accuracy 0.80082, Test accuracy 0.7787\n",
      "Epoch 7, Train loss 0.5357812981471382, Test loss 0.6568833517877362, Train accuracy 0.81638, Test accuracy 0.7763\n",
      "Epoch 8, Train loss 0.5062428436925649, Test loss 0.8237194373637815, Train accuracy 0.82592, Test accuracy 0.7531\n",
      "Epoch 9, Train loss 0.4925554057063959, Test loss 1.0106044253216515, Train accuracy 0.83184, Test accuracy 0.7102\n",
      "Epoch 10, Train loss 0.47193184334908606, Test loss 0.7282587497294704, Train accuracy 0.8392, Test accuracy 0.7594\n",
      "Epoch 11, Train loss 0.4594259753708949, Test loss 0.7352736203730861, Train accuracy 0.84212, Test accuracy 0.7561\n",
      "Epoch 12, Train loss 0.44021994565301537, Test loss 0.5265190825809406, Train accuracy 0.84908, Test accuracy 0.8236\n",
      "Epoch 13, Train loss 0.4310821378246293, Test loss 0.8306647252432907, Train accuracy 0.85412, Test accuracy 0.7531\n",
      "Epoch 14, Train loss 0.4149488946208564, Test loss 0.518459435505203, Train accuracy 0.85826, Test accuracy 0.8252\n",
      "Epoch 15, Train loss 0.4028282079016766, Test loss 0.6340733694879315, Train accuracy 0.86272, Test accuracy 0.7982\n",
      "Epoch 16, Train loss 0.39805756086278754, Test loss 0.5134956372689597, Train accuracy 0.86464, Test accuracy 0.841\n",
      "Epoch 17, Train loss 0.39506386346219446, Test loss 0.733317435919484, Train accuracy 0.86276, Test accuracy 0.7612\n",
      "Epoch 18, Train loss 0.38096117839941285, Test loss 1.0947119959547549, Train accuracy 0.86882, Test accuracy 0.6827\n",
      "Epoch 19, Train loss 0.3826177321431582, Test loss 0.7439357562910153, Train accuracy 0.86842, Test accuracy 0.7644\n",
      "Epoch 20, Train loss 0.36676377606818744, Test loss 0.5901289276684387, Train accuracy 0.87268, Test accuracy 0.8162\n",
      "Epoch 21, Train loss 0.3666038735367148, Test loss 0.6870809544490862, Train accuracy 0.87476, Test accuracy 0.7767\n",
      "Epoch 22, Train loss 0.35627557375394475, Test loss 0.750679452208024, Train accuracy 0.87792, Test accuracy 0.7781\n",
      "Epoch 23, Train loss 0.3563358431200847, Test loss 0.6210239605058597, Train accuracy 0.8792, Test accuracy 0.8027\n",
      "Epoch 24, Train loss 0.34897563143459426, Test loss 0.5326392450664617, Train accuracy 0.88006, Test accuracy 0.8195\n",
      "Epoch 25, Train loss 0.3481480202177906, Test loss 0.5053112740758099, Train accuracy 0.8798, Test accuracy 0.826\n",
      "Epoch 26, Train loss 0.34229755965645053, Test loss 0.508202817998355, Train accuracy 0.88318, Test accuracy 0.8327\n",
      "Epoch 27, Train loss 0.33795868104223703, Test loss 0.6694752132590813, Train accuracy 0.88468, Test accuracy 0.789\n",
      "Epoch 28, Train loss 0.34118158170176893, Test loss 0.45529696326467056, Train accuracy 0.8835, Test accuracy 0.8431\n",
      "Epoch 29, Train loss 0.3285141238547347, Test loss 0.5260419811629042, Train accuracy 0.88652, Test accuracy 0.8238\n",
      "Epoch 30, Train loss 0.3321675607158095, Test loss 0.5765783488750458, Train accuracy 0.88546, Test accuracy 0.823\n",
      "Epoch 31, Train loss 0.3227126298810515, Test loss 0.5277334738381302, Train accuracy 0.88996, Test accuracy 0.8315\n",
      "Epoch 32, Train loss 0.3209078268664877, Test loss 0.46756015208703056, Train accuracy 0.8906, Test accuracy 0.8448\n",
      "Epoch 33, Train loss 0.3215288788156436, Test loss 0.5701129293139977, Train accuracy 0.88954, Test accuracy 0.8192\n",
      "Epoch 34, Train loss 0.31893466904645074, Test loss 0.44072135962262937, Train accuracy 0.89102, Test accuracy 0.8545\n",
      "Epoch 35, Train loss 0.3121552808434152, Test loss 0.7060842291463779, Train accuracy 0.8937, Test accuracy 0.7828\n",
      "Epoch 36, Train loss 0.3120527507170387, Test loss 0.4283907700188552, Train accuracy 0.89294, Test accuracy 0.8606\n",
      "Epoch 37, Train loss 0.310002132411808, Test loss 0.39369608367545694, Train accuracy 0.89298, Test accuracy 0.8646\n",
      "Epoch 38, Train loss 0.3060261692727923, Test loss 0.4677987928631939, Train accuracy 0.89396, Test accuracy 0.8499\n",
      "Epoch 39, Train loss 0.3058323809100539, Test loss 0.5549104115631007, Train accuracy 0.89648, Test accuracy 0.8246\n",
      "Epoch 40, Train loss 0.29884855715972386, Test loss 0.505508602419986, Train accuracy 0.8979, Test accuracy 0.8365\n",
      "Epoch 41, Train loss 0.3090937363598353, Test loss 0.6058881871307953, Train accuracy 0.89374, Test accuracy 0.8096\n",
      "Epoch 42, Train loss 0.29856134623365327, Test loss 0.48009875756275805, Train accuracy 0.89866, Test accuracy 0.8457\n",
      "Epoch 43, Train loss 0.2986105454090001, Test loss 0.4778274429749839, Train accuracy 0.8982, Test accuracy 0.843\n",
      "Epoch 44, Train loss 0.293522374613968, Test loss 0.4459712465729895, Train accuracy 0.90028, Test accuracy 0.8552\n",
      "Epoch 45, Train loss 0.29554131428908814, Test loss 0.6161866501162324, Train accuracy 0.9001, Test accuracy 0.8\n",
      "Epoch 46, Train loss 0.29471274918836093, Test loss 0.4654901985880695, Train accuracy 0.89928, Test accuracy 0.8485\n",
      "Epoch 47, Train loss 0.29066400683444477, Test loss 0.4246553203350381, Train accuracy 0.90118, Test accuracy 0.8617\n",
      "Epoch 48, Train loss 0.29125868875885863, Test loss 0.8292733864693702, Train accuracy 0.90028, Test accuracy 0.7643\n",
      "Epoch 49, Train loss 0.2876358359594784, Test loss 0.42677737432944624, Train accuracy 0.90096, Test accuracy 0.863\n",
      "Epoch 50, Train loss 0.2838796262660295, Test loss 0.4182983853771717, Train accuracy 0.9027, Test accuracy 0.8637\n",
      "Epoch 51, Train loss 0.2802735980018935, Test loss 0.4520720850817765, Train accuracy 0.90558, Test accuracy 0.8575\n",
      "Epoch 52, Train loss 0.2789990034173517, Test loss 0.5721004431760763, Train accuracy 0.90416, Test accuracy 0.824\n",
      "Epoch 53, Train loss 0.2804454656132042, Test loss 0.40592496785559234, Train accuracy 0.90358, Test accuracy 0.8666\n",
      "Epoch 54, Train loss 0.28056010188501507, Test loss 0.5308132331959808, Train accuracy 0.9031, Test accuracy 0.8364\n",
      "Epoch 55, Train loss 0.27552915412141843, Test loss 0.36280867589425436, Train accuracy 0.90584, Test accuracy 0.8765\n",
      "Epoch 56, Train loss 0.2743271806127275, Test loss 0.45446397948868666, Train accuracy 0.90606, Test accuracy 0.8475\n",
      "Epoch 57, Train loss 0.2697983010269492, Test loss 0.6753229363055169, Train accuracy 0.90682, Test accuracy 0.7901\n",
      "Epoch 58, Train loss 0.26437548582282516, Test loss 0.3647954629003247, Train accuracy 0.91036, Test accuracy 0.885\n",
      "Epoch 59, Train loss 0.2671027113409603, Test loss 0.3944284597152396, Train accuracy 0.90852, Test accuracy 0.8703\n",
      "Epoch 60, Train loss 0.2673121553171626, Test loss 0.37209867695464366, Train accuracy 0.90936, Test accuracy 0.8721\n",
      "Epoch 61, Train loss 0.2597723543796393, Test loss 0.4572434911999521, Train accuracy 0.9104, Test accuracy 0.8466\n",
      "Epoch 62, Train loss 0.2664076210668935, Test loss 0.3966749285972571, Train accuracy 0.90998, Test accuracy 0.8726\n",
      "Epoch 63, Train loss 0.2525195909849823, Test loss 0.3847809283039238, Train accuracy 0.91368, Test accuracy 0.8746\n",
      "Epoch 64, Train loss 0.2601524131072452, Test loss 0.38378935750526716, Train accuracy 0.91022, Test accuracy 0.8783\n",
      "Epoch 65, Train loss 0.25262999871883857, Test loss 0.4812988718099232, Train accuracy 0.91344, Test accuracy 0.8457\n",
      "Epoch 66, Train loss 0.24907124162558705, Test loss 0.3871311317139034, Train accuracy 0.91568, Test accuracy 0.8756\n",
      "Epoch 67, Train loss 0.25027794989249896, Test loss 0.45120341604269004, Train accuracy 0.91532, Test accuracy 0.853\n",
      "Epoch 68, Train loss 0.248432474006015, Test loss 0.4054087409867516, Train accuracy 0.9151, Test accuracy 0.8702\n",
      "Epoch 69, Train loss 0.24702373257530924, Test loss 0.44934383494472957, Train accuracy 0.91526, Test accuracy 0.8618\n",
      "Epoch 70, Train loss 0.2454129004722361, Test loss 0.44504175023942055, Train accuracy 0.91562, Test accuracy 0.858\n",
      "Epoch 71, Train loss 0.24714795120841707, Test loss 0.3628873381810852, Train accuracy 0.9157, Test accuracy 0.8791\n",
      "Epoch 72, Train loss 0.2356132310445961, Test loss 0.597754998297631, Train accuracy 0.91958, Test accuracy 0.8184\n",
      "Epoch 73, Train loss 0.240868649023878, Test loss 0.38754055092606365, Train accuracy 0.9171, Test accuracy 0.8735\n",
      "Epoch 74, Train loss 0.23283962615768014, Test loss 0.34917542376095734, Train accuracy 0.92104, Test accuracy 0.8842\n",
      "Epoch 75, Train loss 0.2368065610604213, Test loss 0.39945551281488395, Train accuracy 0.9186, Test accuracy 0.8739\n",
      "Epoch 76, Train loss 0.2359120144373011, Test loss 0.3731188096954853, Train accuracy 0.9207, Test accuracy 0.8776\n",
      "Epoch 77, Train loss 0.22444967896965765, Test loss 0.39561104302919364, Train accuracy 0.92342, Test accuracy 0.8729\n",
      "Epoch 78, Train loss 0.22796987544011582, Test loss 0.39319975598703455, Train accuracy 0.92192, Test accuracy 0.8716\n",
      "Epoch 79, Train loss 0.22664770794570294, Test loss 0.4183857435289818, Train accuracy 0.92196, Test accuracy 0.8714\n",
      "Epoch 80, Train loss 0.22443548452747447, Test loss 0.4857511026195333, Train accuracy 0.92484, Test accuracy 0.8502\n",
      "Epoch 81, Train loss 0.22097653423047736, Test loss 0.33719145110513593, Train accuracy 0.9253, Test accuracy 0.8861\n",
      "Epoch 82, Train loss 0.21677904178762375, Test loss 0.3533241290457641, Train accuracy 0.92606, Test accuracy 0.8886\n",
      "Epoch 83, Train loss 0.21800029706543364, Test loss 0.3701166629414015, Train accuracy 0.9243, Test accuracy 0.8829\n",
      "Epoch 84, Train loss 0.21545822556366395, Test loss 0.4858045615727388, Train accuracy 0.92648, Test accuracy 0.849\n",
      "Epoch 85, Train loss 0.2118821270439936, Test loss 0.42359359468085855, Train accuracy 0.92698, Test accuracy 0.862\n",
      "Epoch 86, Train loss 0.21130411580319294, Test loss 0.426780679652208, Train accuracy 0.9271, Test accuracy 0.8594\n",
      "Epoch 87, Train loss 0.201326512772104, Test loss 0.4434412138748772, Train accuracy 0.93156, Test accuracy 0.86\n",
      "Epoch 88, Train loss 0.2029163465951867, Test loss 0.6274000044110455, Train accuracy 0.93046, Test accuracy 0.815\n",
      "Epoch 89, Train loss 0.20621078322305703, Test loss 0.348974593832523, Train accuracy 0.93018, Test accuracy 0.8892\n",
      "Epoch 90, Train loss 0.20297139252314483, Test loss 0.4081389916282666, Train accuracy 0.93102, Test accuracy 0.8662\n",
      "Epoch 91, Train loss 0.19649570463868357, Test loss 0.41374266487133654, Train accuracy 0.93324, Test accuracy 0.8716\n",
      "Epoch 92, Train loss 0.19126724874805612, Test loss 0.6192900123475473, Train accuracy 0.93606, Test accuracy 0.8227\n",
      "Epoch 93, Train loss 0.1955802173203672, Test loss 0.5737387949152838, Train accuracy 0.9324, Test accuracy 0.8305\n",
      "Epoch 94, Train loss 0.1899640801769998, Test loss 0.4566851945806153, Train accuracy 0.93544, Test accuracy 0.8618\n",
      "Epoch 95, Train loss 0.18820929534904793, Test loss 0.40921482726742947, Train accuracy 0.9363, Test accuracy 0.8772\n",
      "Epoch 96, Train loss 0.18713599140458095, Test loss 0.4928479236138018, Train accuracy 0.93514, Test accuracy 0.8535\n",
      "Epoch 97, Train loss 0.17931861950613348, Test loss 0.3025548103489453, Train accuracy 0.9388, Test accuracy 0.9037\n",
      "Epoch 98, Train loss 0.17731536667593908, Test loss 0.3616567315368713, Train accuracy 0.94002, Test accuracy 0.887\n",
      "Epoch 99, Train loss 0.17887891693721952, Test loss 0.3648423912781703, Train accuracy 0.9393, Test accuracy 0.8842\n",
      "Epoch 100, Train loss 0.17462753102450115, Test loss 0.29096367125269734, Train accuracy 0.93934, Test accuracy 0.9044\n",
      "Epoch 101, Train loss 0.17565227678174253, Test loss 0.3783059734143788, Train accuracy 0.93972, Test accuracy 0.8791\n",
      "Epoch 102, Train loss 0.16884060599424344, Test loss 0.3101132080147538, Train accuracy 0.94278, Test accuracy 0.8998\n",
      "Epoch 103, Train loss 0.1649309335004948, Test loss 0.3348830766692946, Train accuracy 0.94384, Test accuracy 0.8944\n",
      "Epoch 104, Train loss 0.1652490370394781, Test loss 0.36712943639936324, Train accuracy 0.94414, Test accuracy 0.8873\n",
      "Epoch 105, Train loss 0.15778420135721832, Test loss 0.3474564552307129, Train accuracy 0.9464, Test accuracy 0.8936\n",
      "Epoch 106, Train loss 0.16202857093814085, Test loss 0.3253597922717469, Train accuracy 0.94332, Test accuracy 0.8984\n",
      "Epoch 107, Train loss 0.15879456970431005, Test loss 0.34963107995594606, Train accuracy 0.94518, Test accuracy 0.8913\n",
      "Epoch 108, Train loss 0.15608870017025478, Test loss 0.315776503161539, Train accuracy 0.9471, Test accuracy 0.8995\n",
      "Epoch 109, Train loss 0.15631578194782558, Test loss 0.3527787433394903, Train accuracy 0.94628, Test accuracy 0.888\n",
      "Epoch 110, Train loss 0.14252722333840398, Test loss 0.2826798980749106, Train accuracy 0.95156, Test accuracy 0.9104\n",
      "Epoch 111, Train loss 0.14800557656132657, Test loss 0.4360836289728744, Train accuracy 0.94954, Test accuracy 0.8652\n",
      "Epoch 112, Train loss 0.1442246877771738, Test loss 0.4008642621809923, Train accuracy 0.9507, Test accuracy 0.8799\n",
      "Epoch 113, Train loss 0.1375498051381172, Test loss 0.35332957400551324, Train accuracy 0.95286, Test accuracy 0.8886\n",
      "Epoch 114, Train loss 0.13614723927643904, Test loss 0.37129633128643036, Train accuracy 0.95296, Test accuracy 0.8923\n",
      "Epoch 115, Train loss 0.13961499837963173, Test loss 0.3523187418527241, Train accuracy 0.95192, Test accuracy 0.8937\n",
      "Epoch 116, Train loss 0.13069940620409254, Test loss 0.33355284661431855, Train accuracy 0.9551, Test accuracy 0.9003\n",
      "Epoch 117, Train loss 0.12806886564130368, Test loss 0.3581855325381967, Train accuracy 0.95706, Test accuracy 0.8904\n",
      "Epoch 118, Train loss 0.1282818506726676, Test loss 0.3592842068476013, Train accuracy 0.95644, Test accuracy 0.8913\n",
      "Epoch 119, Train loss 0.12406777757246171, Test loss 0.34014006374003014, Train accuracy 0.95802, Test accuracy 0.8968\n",
      "Epoch 120, Train loss 0.12261123072041576, Test loss 0.28058675233321856, Train accuracy 0.9577, Test accuracy 0.9135\n",
      "Epoch 121, Train loss 0.11660991082220432, Test loss 0.3418652147431917, Train accuracy 0.9603, Test accuracy 0.8974\n",
      "Epoch 122, Train loss 0.11730484902630071, Test loss 0.33582662649546996, Train accuracy 0.95956, Test accuracy 0.8992\n",
      "Epoch 123, Train loss 0.11286270568418838, Test loss 0.33778125462652764, Train accuracy 0.96138, Test accuracy 0.9004\n",
      "Epoch 124, Train loss 0.10725491084730077, Test loss 0.30144408005702344, Train accuracy 0.9631, Test accuracy 0.9061\n",
      "Epoch 125, Train loss 0.10687299882588179, Test loss 0.31354099879913694, Train accuracy 0.96242, Test accuracy 0.9072\n",
      "Epoch 126, Train loss 0.10215464251501785, Test loss 0.3150668961903717, Train accuracy 0.96526, Test accuracy 0.9115\n",
      "Epoch 127, Train loss 0.1006265418280078, Test loss 0.28761900574723376, Train accuracy 0.96566, Test accuracy 0.9168\n",
      "Epoch 128, Train loss 0.0942097680543161, Test loss 0.38097591792480856, Train accuracy 0.96844, Test accuracy 0.8959\n",
      "Epoch 129, Train loss 0.09349249843079263, Test loss 0.26271523893633975, Train accuracy 0.96836, Test accuracy 0.9219\n",
      "Epoch 130, Train loss 0.09439887834803375, Test loss 0.2716564277682123, Train accuracy 0.96804, Test accuracy 0.9195\n",
      "Epoch 131, Train loss 0.0901386807470218, Test loss 0.28826271983075746, Train accuracy 0.96998, Test accuracy 0.9183\n",
      "Epoch 132, Train loss 0.08926922421130683, Test loss 0.3416092390123802, Train accuracy 0.96958, Test accuracy 0.9001\n",
      "Epoch 133, Train loss 0.08534031737205165, Test loss 0.27718124566953395, Train accuracy 0.97202, Test accuracy 0.9172\n",
      "Epoch 134, Train loss 0.08448731080840921, Test loss 0.27799380297147774, Train accuracy 0.97136, Test accuracy 0.9155\n",
      "Epoch 135, Train loss 0.08361634338522315, Test loss 0.31386799384144287, Train accuracy 0.9722, Test accuracy 0.91\n",
      "Epoch 136, Train loss 0.07836050442312761, Test loss 0.3158962079618551, Train accuracy 0.97414, Test accuracy 0.9089\n",
      "Epoch 137, Train loss 0.06848355781172624, Test loss 0.37541237464056737, Train accuracy 0.97762, Test accuracy 0.8991\n",
      "Epoch 138, Train loss 0.07232962624477152, Test loss 0.289039431776427, Train accuracy 0.97572, Test accuracy 0.9204\n",
      "Epoch 139, Train loss 0.06929776338798463, Test loss 0.28063706296814395, Train accuracy 0.97654, Test accuracy 0.9179\n",
      "Epoch 140, Train loss 0.06364018792081672, Test loss 0.30737687515307077, Train accuracy 0.9787, Test accuracy 0.9146\n",
      "Epoch 141, Train loss 0.06320026101749343, Test loss 0.3076772598337524, Train accuracy 0.97918, Test accuracy 0.915\n",
      "Epoch 142, Train loss 0.05889475818894937, Test loss 0.34147255094368245, Train accuracy 0.98034, Test accuracy 0.9062\n",
      "Epoch 143, Train loss 0.05857565262547844, Test loss 0.27233207093763956, Train accuracy 0.98064, Test accuracy 0.9259\n",
      "Epoch 144, Train loss 0.055965472181873095, Test loss 0.27816680828227275, Train accuracy 0.98182, Test accuracy 0.9254\n",
      "Epoch 145, Train loss 0.049160499380582284, Test loss 0.33937774042162716, Train accuracy 0.9844, Test accuracy 0.9121\n",
      "Epoch 146, Train loss 0.0496214260359097, Test loss 0.26714699973552664, Train accuracy 0.98362, Test accuracy 0.929\n",
      "Epoch 147, Train loss 0.04634500957210846, Test loss 0.25253581548038917, Train accuracy 0.98466, Test accuracy 0.9292\n",
      "Epoch 148, Train loss 0.041224528624511814, Test loss 0.28292972792552995, Train accuracy 0.98702, Test accuracy 0.9238\n",
      "Epoch 149, Train loss 0.04261669729743391, Test loss 0.2985242163361628, Train accuracy 0.98632, Test accuracy 0.9232\n",
      "Epoch 150, Train loss 0.03839272550781212, Test loss 0.25473534146064447, Train accuracy 0.9879, Test accuracy 0.9311\n",
      "Epoch 151, Train loss 0.038261563801790216, Test loss 0.2502390296210217, Train accuracy 0.98802, Test accuracy 0.9306\n",
      "Epoch 152, Train loss 0.03050208411386708, Test loss 0.25626586802020856, Train accuracy 0.9905, Test accuracy 0.9325\n",
      "Epoch 153, Train loss 0.02826747001277383, Test loss 0.24830927478173112, Train accuracy 0.99138, Test accuracy 0.9336\n",
      "Epoch 154, Train loss 0.02641281889765845, Test loss 0.24167138191906712, Train accuracy 0.99202, Test accuracy 0.9359\n",
      "Epoch 155, Train loss 0.025867772064126476, Test loss 0.23323207574342436, Train accuracy 0.99272, Test accuracy 0.937\n",
      "Epoch 156, Train loss 0.020081037255313697, Test loss 0.2147247058433728, Train accuracy 0.99416, Test accuracy 0.9436\n",
      "Epoch 157, Train loss 0.020397453308653307, Test loss 0.2654038496032546, Train accuracy 0.99416, Test accuracy 0.9314\n",
      "Epoch 158, Train loss 0.02295204272846241, Test loss 0.25338270246416705, Train accuracy 0.99308, Test accuracy 0.9329\n",
      "Epoch 159, Train loss 0.0198451445361747, Test loss 0.22636124911376193, Train accuracy 0.99428, Test accuracy 0.9399\n",
      "Epoch 160, Train loss 0.015169831807725132, Test loss 0.22619192608738248, Train accuracy 0.99586, Test accuracy 0.9419\n",
      "Epoch 161, Train loss 0.013750849117505867, Test loss 0.22857871453596068, Train accuracy 0.99632, Test accuracy 0.9404\n",
      "Epoch 162, Train loss 0.012807088726929025, Test loss 0.20439736356463614, Train accuracy 0.99638, Test accuracy 0.9457\n",
      "Epoch 163, Train loss 0.009284784953655374, Test loss 0.2177400835141351, Train accuracy 0.99776, Test accuracy 0.9452\n",
      "Epoch 164, Train loss 0.008796068196913795, Test loss 0.20606156870062592, Train accuracy 0.99794, Test accuracy 0.9479\n",
      "Epoch 165, Train loss 0.006877133073142308, Test loss 0.21159978460850595, Train accuracy 0.99852, Test accuracy 0.946\n",
      "Epoch 166, Train loss 0.006063632502564756, Test loss 0.195480863056794, Train accuracy 0.99874, Test accuracy 0.9521\n",
      "Epoch 167, Train loss 0.0054992455292416885, Test loss 0.1927806272914138, Train accuracy 0.99878, Test accuracy 0.9533\n",
      "Epoch 168, Train loss 0.00508910654883241, Test loss 0.1791486060482603, Train accuracy 0.99904, Test accuracy 0.9548\n",
      "Epoch 169, Train loss 0.003533095139247911, Test loss 0.18584247449813765, Train accuracy 0.99958, Test accuracy 0.9531\n",
      "Epoch 170, Train loss 0.0030352198000749586, Test loss 0.17819473812285858, Train accuracy 0.99974, Test accuracy 0.9563\n",
      "Epoch 171, Train loss 0.00288824314820816, Test loss 0.17413877535469924, Train accuracy 0.99972, Test accuracy 0.9565\n",
      "Epoch 172, Train loss 0.002487104829273346, Test loss 0.17254125805500942, Train accuracy 0.99984, Test accuracy 0.9575\n",
      "Epoch 173, Train loss 0.0024427871100421127, Test loss 0.16891130944124505, Train accuracy 0.99982, Test accuracy 0.9569\n",
      "Epoch 174, Train loss 0.0023472845252743824, Test loss 0.1631809525616184, Train accuracy 0.99986, Test accuracy 0.9581\n",
      "Epoch 175, Train loss 0.0021491508740071885, Test loss 0.16144288925430442, Train accuracy 0.99986, Test accuracy 0.9584\n",
      "Epoch 176, Train loss 0.0020025071513522274, Test loss 0.16224165102820606, Train accuracy 0.99992, Test accuracy 0.9583\n",
      "Epoch 177, Train loss 0.0020168923345320593, Test loss 0.16443132069197636, Train accuracy 0.99992, Test accuracy 0.9571\n",
      "Epoch 178, Train loss 0.0020266191873406455, Test loss 0.16202823459347593, Train accuracy 0.99996, Test accuracy 0.9595\n",
      "Epoch 179, Train loss 0.0019227420949005543, Test loss 0.16155599559881265, Train accuracy 0.99994, Test accuracy 0.9578\n",
      "Epoch 180, Train loss 0.001972987059452583, Test loss 0.16044333065518096, Train accuracy 0.99992, Test accuracy 0.9592\n",
      "Epoch 181, Train loss 0.0019073278165024604, Test loss 0.1601122996498701, Train accuracy 0.99994, Test accuracy 0.9588\n",
      "Epoch 182, Train loss 0.001883907858437151, Test loss 0.15861481352697446, Train accuracy 0.99996, Test accuracy 0.9593\n",
      "Epoch 183, Train loss 0.0019060486776973395, Test loss 0.15918091851982136, Train accuracy 0.99992, Test accuracy 0.9582\n",
      "Epoch 184, Train loss 0.0018449437481772794, Test loss 0.16028453244627278, Train accuracy 0.99996, Test accuracy 0.9587\n",
      "Epoch 185, Train loss 0.0018811015119833295, Test loss 0.16006437010025676, Train accuracy 0.99992, Test accuracy 0.9587\n",
      "Epoch 186, Train loss 0.0018443949337479423, Test loss 0.15856485174898105, Train accuracy 0.99996, Test accuracy 0.9595\n",
      "Epoch 187, Train loss 0.0018058762585808573, Test loss 0.15792554985920462, Train accuracy 0.99996, Test accuracy 0.9593\n",
      "Epoch 188, Train loss 0.0017440995659090846, Test loss 0.15684802552001387, Train accuracy 1.0, Test accuracy 0.9588\n"
     ]
    },
    {
     "ename": "KeyboardInterrupt",
     "evalue": "",
     "output_type": "error",
     "traceback": [
      "\u001b[0;31m---------------------------------------------------------------------------\u001b[0m",
      "\u001b[0;31mKeyboardInterrupt\u001b[0m                         Traceback (most recent call last)",
      "Cell \u001b[0;32mIn[11], line 3\u001b[0m\n\u001b[1;32m      1\u001b[0m \u001b[38;5;28;01mfor\u001b[39;00m epoch \u001b[38;5;129;01min\u001b[39;00m \u001b[38;5;28mrange\u001b[39m(starting_epoch, epochs):\n\u001b[0;32m----> 3\u001b[0m   train_loss, train_accuracy \u001b[38;5;241m=\u001b[39m train(model, optimizer, loss_function, train_loader, DEVICE)\n\u001b[1;32m      4\u001b[0m   train_loss_history\u001b[38;5;241m.\u001b[39mappend(train_loss)\n\u001b[1;32m      5\u001b[0m   train_accuracy_history\u001b[38;5;241m.\u001b[39mappend(train_accuracy)\n",
      "File \u001b[0;32m/scratch/olr7742/DL-Comp/utils.py:78\u001b[0m, in \u001b[0;36mtrain\u001b[0;34m(model, optimizer, loss_function, loader, DEVICE)\u001b[0m\n\u001b[1;32m     76\u001b[0m torch\u001b[38;5;241m.\u001b[39mnn\u001b[38;5;241m.\u001b[39mutils\u001b[38;5;241m.\u001b[39mclip_grad_value_(model\u001b[38;5;241m.\u001b[39mparameters(), clip_value\u001b[38;5;241m=\u001b[39m\u001b[38;5;241m0.1\u001b[39m)\n\u001b[1;32m     77\u001b[0m optimizer\u001b[38;5;241m.\u001b[39mstep()\n\u001b[0;32m---> 78\u001b[0m loss \u001b[38;5;241m+\u001b[39m\u001b[38;5;241m=\u001b[39m fit\u001b[38;5;241m.\u001b[39mitem()\n\u001b[1;32m     79\u001b[0m _, predicted \u001b[38;5;241m=\u001b[39m torch\u001b[38;5;241m.\u001b[39mmax(predicted_output, \u001b[38;5;241m1\u001b[39m)\n\u001b[1;32m     80\u001b[0m accuracy \u001b[38;5;241m+\u001b[39m\u001b[38;5;241m=\u001b[39m (predicted \u001b[38;5;241m==\u001b[39m labels)\u001b[38;5;241m.\u001b[39msum()\u001b[38;5;241m.\u001b[39mitem()\n",
      "\u001b[0;31mKeyboardInterrupt\u001b[0m: "
     ]
    }
   ],
   "source": [
    "for epoch in range(start_epoch, end_epoch):\n",
    "\n",
    "  train_loss, train_accuracy = train(model, optimizer, loss_function, train_loader, DEVICE)\n",
    "  train_loss_history.append(train_loss)\n",
    "  train_accuracy_history.append(train_accuracy)\n",
    "\n",
    "  test_loss, test_accuracy = test(model, loss_function, test_loader, DEVICE)\n",
    "  test_loss_history.append(test_loss)\n",
    "  test_accuracy_history.append(test_accuracy)\n",
    "\n",
    "  scheduler.step()\n",
    "\n",
    "  save_checkpoint(model,optimizer,epoch,\"checkpoints/my_checkpoint.pth.tar\")\n",
    "\n",
    "  print(f'Epoch {epoch}, Train loss {train_loss}, Test loss {test_loss}, Train accuracy {train_accuracy}, Test accuracy {test_accuracy}')"
   ]
  },
  {
   "cell_type": "code",
   "execution_count": 13,
   "metadata": {},
   "outputs": [],
   "source": [
    "import numpy as np\n",
    "train_loss_history = np.array(train_loss_history)\n",
    "train_accuracy_history = np.array(train_accuracy_history)\n",
    "test_loss_history = np.array(test_loss_history)\n",
    "test_accuracy_history = np.array(test_accuracy_history)"
   ]
  },
  {
   "cell_type": "code",
   "execution_count": 14,
   "metadata": {},
   "outputs": [],
   "source": [
    "np.save(\"train_loss_history.np\",train_loss_history)\n",
    "np.save(\"train_accuracy_history.np\",train_accuracy_history)\n",
    "np.save(\"test_loss_history.np\",test_loss_history)\n",
    "np.save(\"test_accuracy_history.np\",test_accuracy_history)"
   ]
  },
  {
   "cell_type": "code",
   "execution_count": null,
   "metadata": {},
   "outputs": [],
   "source": []
  }
 ],
 "metadata": {
  "accelerator": "GPU",
  "colab": {
   "gpuType": "V100",
   "machine_shape": "hm",
   "provenance": []
  },
  "kernelspec": {
   "display_name": "Python 3",
   "language": "python",
   "name": "python3"
  },
  "language_info": {
   "codemirror_mode": {
    "name": "ipython",
    "version": 3
   },
   "file_extension": ".py",
   "mimetype": "text/x-python",
   "name": "python",
   "nbconvert_exporter": "python",
   "pygments_lexer": "ipython3",
   "version": "3.12.2"
  }
 },
 "nbformat": 4,
 "nbformat_minor": 4
}
