{
 "cells": [
  {
   "cell_type": "code",
   "execution_count": 1,
   "metadata": {},
   "outputs": [],
   "source": [
    "import torch\n",
    "from torch import nn\n",
    "from resnet import BasicBlock, ResNet"
   ]
  },
  {
   "cell_type": "code",
   "execution_count": 2,
   "metadata": {},
   "outputs": [],
   "source": [
    "def combine_function(x, output, in_channels, out_channels, stride):\n",
    "    x = nn.Sequential(\n",
    "        nn.Conv2d(in_channels,out_channels,kernel_size=1,stride=stride),\n",
    "        nn.BatchNorm2d(out_channels)\n",
    "    )(x)\n",
    "    return x + output"
   ]
  },
  {
   "cell_type": "code",
   "execution_count": 3,
   "metadata": {},
   "outputs": [
    {
     "name": "stdout",
     "output_type": "stream",
     "text": [
      "shape before:  torch.Size([1, 3, 16, 16])\n",
      "shape after:  torch.Size([1, 10])\n"
     ]
    }
   ],
   "source": [
    "x = torch.rand((1,3,16,16))\n",
    "print(\"shape before: \", x.shape)\n",
    "num_blocks = [3,3,3]\n",
    "y = ResNet(10,num_blocks=num_blocks,combine_function=combine_function).forward(x)\n",
    "print(\"shape after: \", y.shape)\n"
   ]
  },
  {
   "cell_type": "code",
   "execution_count": null,
   "metadata": {},
   "outputs": [],
   "source": []
  }
 ],
 "metadata": {
  "kernelspec": {
   "display_name": "Python 3",
   "language": "python",
   "name": "python3"
  },
  "language_info": {
   "codemirror_mode": {
    "name": "ipython",
    "version": 3
   },
   "file_extension": ".py",
   "mimetype": "text/x-python",
   "name": "python",
   "nbconvert_exporter": "python",
   "pygments_lexer": "ipython3",
   "version": "3.12.2"
  }
 },
 "nbformat": 4,
 "nbformat_minor": 2
}
